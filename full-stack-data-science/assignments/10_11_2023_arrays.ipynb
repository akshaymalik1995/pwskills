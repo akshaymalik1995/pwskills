{
 "cells": [
  {
   "cell_type": "markdown",
   "id": "a378fb01",
   "metadata": {},
   "source": [
    "## Question 1\n",
    "1. Given an array, check if it contains any duplicates or not\n",
    "```\n",
    "arr = [1, 2, 4, 2, 5, 9]\n",
    "Output = True\n",
    "```"
   ]
  },
  {
   "cell_type": "code",
   "execution_count": 1,
   "id": "3d6a6ab0",
   "metadata": {},
   "outputs": [],
   "source": [
    "from typing import List\n",
    "def check_duplicates(arr : List[int]) -> bool:\n",
    "    \"\"\"\n",
    "    A function that checks for duplicates in a list.\n",
    "    \"\"\"\n",
    "    if type(arr) != list:\n",
    "        raise Exception(\"The argument 'arr' must be of type list\")\n",
    "    temp_arr = []\n",
    "    for item in arr:\n",
    "        if item in temp_arr:\n",
    "            return True\n",
    "        temp_arr.append(item)\n",
    "    return False"
   ]
  },
  {
   "cell_type": "code",
   "execution_count": 2,
   "id": "201935fd",
   "metadata": {},
   "outputs": [
    {
     "data": {
      "text/plain": [
       "True"
      ]
     },
     "execution_count": 2,
     "metadata": {},
     "output_type": "execute_result"
    }
   ],
   "source": [
    "arr = [1, 2, 4, 2, 5, 9]\n",
    "check_duplicates(arr)"
   ]
  },
  {
   "cell_type": "markdown",
   "id": "7b4af715",
   "metadata": {},
   "source": [
    "- This method has a time complexity of `O(n^2)` because for each element in the list, it also checks if it exists in the temporary list which in worst case can alsso be of size n.\n",
    "- The space complexity is `O(n)` since a new array is created.\n",
    "- A more efficient approach would be to use a set, which is an unordered collection of unique elements."
   ]
  },
  {
   "cell_type": "code",
   "execution_count": 3,
   "id": "e86769ab",
   "metadata": {},
   "outputs": [],
   "source": [
    "from typing import List\n",
    "def check_duplicates_2(arr : List[int]) -> bool:\n",
    "    if type(arr) != list:\n",
    "        raise Exception(\"The argument 'arr' must be of type list\")\n",
    "    return len(arr) != len(set(arr))"
   ]
  },
  {
   "cell_type": "code",
   "execution_count": 4,
   "id": "86d2b307",
   "metadata": {},
   "outputs": [
    {
     "data": {
      "text/plain": [
       "True"
      ]
     },
     "execution_count": 4,
     "metadata": {},
     "output_type": "execute_result"
    }
   ],
   "source": [
    "arr = [1, 2, 4, 2, 5, 9]\n",
    "check_duplicates_2(arr)"
   ]
  },
  {
   "cell_type": "markdown",
   "id": "fdca61a5",
   "metadata": {},
   "source": [
    "- Here, we converted the list to a set and compared the lengths of the original list and the set. \n",
    "- This method has a time complexity of `O(n)` because it requires only one pass through the list i.e. while converting the list to a set.\n",
    "- If the lengths are different , it means there are duplicates in the list."
   ]
  },
  {
   "cell_type": "markdown",
   "id": "7a9c1950",
   "metadata": {},
   "source": [
    "## Question 2\n",
    "\n",
    "2. Given an array and an integer k, rotate the array to the right by k steps.\n",
    "\n",
    "```\n",
    "arr = [1, 2, 3, 4, 5, 6, 7] k = 4\n",
    "Output = [5, 6, 7, 1, 2, 3, 4]\n",
    "```"
   ]
  },
  {
   "cell_type": "code",
   "execution_count": 5,
   "id": "5fcd1e2c",
   "metadata": {},
   "outputs": [],
   "source": [
    "from typing import List, Any\n",
    "def shift_array(arr : List[Any], k : int) -> List[Any]:\n",
    "    \"\"\"\n",
    "    A function that shifts an array to the right by k positions.\n",
    "    \"\"\"\n",
    "    if type(arr) != list:\n",
    "        raise Exception(\"The argument 'arr' must be of type list\")\n",
    "    if type(k) != int:\n",
    "        raise Exception(\"The argument 'k' must be of type int\")\n",
    "    temp_arr = arr.copy()\n",
    "    arr_length = len(arr)\n",
    "    for idx in range(arr_length):\n",
    "        new_idx = idx - k\n",
    "        if new_idx < 0:\n",
    "            new_idx += arr_length\n",
    "        new_idx = new_idx % arr_length\n",
    "        temp_arr[new_idx] = arr[idx]\n",
    "    return temp_arr"
   ]
  },
  {
   "cell_type": "code",
   "execution_count": 6,
   "id": "8c16415f",
   "metadata": {},
   "outputs": [
    {
     "data": {
      "text/plain": [
       "[5, 6, 7, 1, 2, 3, 4]"
      ]
     },
     "execution_count": 6,
     "metadata": {},
     "output_type": "execute_result"
    }
   ],
   "source": [
    "arr = [1, 2, 3, 4, 5, 6, 7]\n",
    "k = 4\n",
    "shift_array(arr, k)"
   ]
  },
  {
   "cell_type": "markdown",
   "id": "b4ef3219",
   "metadata": {},
   "source": [
    "- **Time Complexity** : `O(n)`\n",
    "- **Space Complexity** : `O(n)`"
   ]
  },
  {
   "cell_type": "code",
   "execution_count": 14,
   "id": "70cf7b4d",
   "metadata": {},
   "outputs": [],
   "source": [
    "from typing import List, Any\n",
    "def shift_array_2(arr : List[Any], k : int) -> List[Any]:\n",
    "    \"\"\"\n",
    "    A function that shifts an array to the right by k positions wihout using any additional data structure.\n",
    "    \"\"\"\n",
    "    if type(arr) != list:\n",
    "        raise Exception(\"The argument 'arr' must be of type list\")\n",
    "    if type(k) != int:\n",
    "        raise Exception(\"The argument 'k' must be of type int\")\n",
    "    if k < 0:\n",
    "        raise Exception(\"The argument 'k' must be greater than 0\")\n",
    "    arr_length = len(arr)\n",
    "    k = k % arr_length\n",
    "    arr[ : arr_length - k] , arr[arr_length - k :] =  arr[k:] , arr[:k]\n",
    "    return arr"
   ]
  },
  {
   "cell_type": "code",
   "execution_count": 20,
   "id": "24fd8b65",
   "metadata": {},
   "outputs": [
    {
     "data": {
      "text/plain": [
       "[3, 4, 5, 6, 7, 1, 2]"
      ]
     },
     "execution_count": 20,
     "metadata": {},
     "output_type": "execute_result"
    }
   ],
   "source": [
    "arr = [1, 2, 3, 4, 5, 6, 7]\n",
    "k = \n",
    "shift_array_2(arr, k)"
   ]
  },
  {
   "cell_type": "markdown",
   "id": "63e89493",
   "metadata": {},
   "source": [
    "- We have reduced the space complexity to O(1)\n",
    "- **Time Complexity** : `O(n)` because the slicing operation takes O(n) time.\n",
    "- **Space Complexity** : `O(1)`"
   ]
  },
  {
   "cell_type": "markdown",
   "id": "b0197b36",
   "metadata": {},
   "source": [
    "## Question 3\n",
    "\n",
    "Reverse the given array in-place, means without using any extra data structure.\n",
    "\n",
    "```\n",
    "arr = [2, 4, 5, 7, 9, 12]\n",
    "Output = [12, 9, 7, 5, 4, 2]\n",
    "```"
   ]
  },
  {
   "cell_type": "code",
   "execution_count": 7,
   "id": "4b309831",
   "metadata": {},
   "outputs": [],
   "source": [
    "from typing import List, Any\n",
    "def reverse_array_in_place(arr : List[any]) -> List[any]:\n",
    "    \"\"\"\n",
    "    A function that reverses an array in place without using\n",
    "    any additional data structure.\n",
    "    \"\"\"\n",
    "    if type(arr) != list:\n",
    "        raise Exception(\"The argument 'arr' must be of type list\")\n",
    "    start = 0\n",
    "    end = len(arr) - 1\n",
    "    \n",
    "    while start < end:\n",
    "        arr[start], arr[end] = arr[end], arr[start]\n",
    "        \n",
    "        start += 1\n",
    "        end -= 1\n",
    "        \n",
    "    return arr"
   ]
  },
  {
   "cell_type": "code",
   "execution_count": 8,
   "id": "344b9b16",
   "metadata": {},
   "outputs": [
    {
     "data": {
      "text/plain": [
       "[12, 9, 7, 5, 4, 2]"
      ]
     },
     "execution_count": 8,
     "metadata": {},
     "output_type": "execute_result"
    }
   ],
   "source": [
    "arr = [2, 4, 5, 7, 9, 12]\n",
    "reverse_array_in_place(arr)"
   ]
  },
  {
   "cell_type": "markdown",
   "id": "55da7264",
   "metadata": {},
   "source": [
    "- To reverse a list in-place, we can use the two-pointer technique. It involves initializing two pointers, one at the beginning of the list and the other at the end of the list. We can then swap the elements at these two positions, and move the pointers towards each other until they meet in the middle.\n",
    "- The in-built way of reversing the arr in place is using the `reverse()` method.\n",
    "- **Time Complexity** : `O(n)`\n",
    "- **Space Complexity** : `O(1)`"
   ]
  },
  {
   "cell_type": "markdown",
   "id": "cc710a2e",
   "metadata": {},
   "source": [
    "## Question 4\n",
    "4. Given an array of integers, find the maximum element in an array\n",
    "```\n",
    "arr = [10, 5, 20, 8, 15]\n",
    "Output = 20\n",
    "```"
   ]
  },
  {
   "cell_type": "code",
   "execution_count": 9,
   "id": "a96b483e",
   "metadata": {},
   "outputs": [],
   "source": [
    "from typing import List\n",
    "def find_max(arr : List[int]) -> int:\n",
    "    \"\"\"\n",
    "    A function that finds the maximum value in a list of integers.\n",
    "    \"\"\"\n",
    "    if type(arr) != list:\n",
    "        raise Exception(\"The argument 'arr' must be of type list\")\n",
    "    temp = float('-inf')\n",
    "    for item in arr:\n",
    "        if item > temp:\n",
    "            temp = item\n",
    "    return temp"
   ]
  },
  {
   "cell_type": "code",
   "execution_count": 10,
   "id": "291f6b50",
   "metadata": {},
   "outputs": [
    {
     "data": {
      "text/plain": [
       "20"
      ]
     },
     "execution_count": 10,
     "metadata": {},
     "output_type": "execute_result"
    }
   ],
   "source": [
    "arr = [10, 5, 20, 8, 15]\n",
    "find_max(arr)"
   ]
  },
  {
   "cell_type": "markdown",
   "id": "a636909e",
   "metadata": {},
   "source": [
    "- **Time Complexity** : `O(n)`\n",
    "- **Space Complexity** : `O(1)`"
   ]
  },
  {
   "cell_type": "markdown",
   "id": "7e5834ae",
   "metadata": {},
   "source": [
    "## Question 5\n",
    "\n",
    "5. Given a sorted array, remove the duplicate element without using any extra data structure.\n",
    "\n",
    "```\n",
    "arr = [1, 1, 2, 2, 2, 3, 3, 4, 4, 4, 5, 5]\n",
    "Output = [1, 2, 3, 4, 5]\n",
    "```"
   ]
  },
  {
   "cell_type": "code",
   "execution_count": 11,
   "id": "462fd15d",
   "metadata": {},
   "outputs": [],
   "source": [
    "from typing import List, Any\n",
    "def remove_duplicates(arr : List[Any]) -> List[Any]:\n",
    "    \"\"\"\n",
    "    A function that removes duplicates from a sorted array without\n",
    "    using any additonal data structure.\n",
    "    \"\"\"\n",
    "    if type(arr) != list:\n",
    "        raise Exception(\"The argument 'arr' must be of type list\")\n",
    "    \n",
    "    # Initialize the pointer to unique element\n",
    "    unique_idx = 0\n",
    "    # We will start the loop from second element\n",
    "    idx = 1\n",
    "    while idx < len(arr):\n",
    "        # Look for the next unique element\n",
    "        if arr[idx] != arr[unique_idx]:\n",
    "            # If you find one then insert it ahead of the last unique element\n",
    "            unique_idx += 1\n",
    "            arr[unique_idx] = arr[idx]\n",
    "        idx += 1                                                                                                                           \n",
    "    return arr[:unique_idx + 1]"
   ]
  },
  {
   "cell_type": "code",
   "execution_count": 12,
   "id": "6893aa57",
   "metadata": {},
   "outputs": [
    {
     "data": {
      "text/plain": [
       "[1, 2, 3, 4, 5]"
      ]
     },
     "execution_count": 12,
     "metadata": {},
     "output_type": "execute_result"
    }
   ],
   "source": [
    "arr = [1, 1, 2, 2, 2, 3, 3, 4, 4, 4, 5, 5]\n",
    "remove_duplicates(arr)"
   ]
  },
  {
   "cell_type": "markdown",
   "id": "ad9b51d5",
   "metadata": {},
   "source": [
    "- **Time Complexity** : `O(n)`\n",
    "- **Space Complexity** : `O(1)`"
   ]
  },
  {
   "cell_type": "code",
   "execution_count": null,
   "id": "48eafba2",
   "metadata": {},
   "outputs": [],
   "source": []
  }
 ],
 "metadata": {
  "kernelspec": {
   "display_name": "Python 3 (ipykernel)",
   "language": "python",
   "name": "python3"
  },
  "language_info": {
   "codemirror_mode": {
    "name": "ipython",
    "version": 3
   },
   "file_extension": ".py",
   "mimetype": "text/x-python",
   "name": "python",
   "nbconvert_exporter": "python",
   "pygments_lexer": "ipython3",
   "version": "3.9.12"
  }
 },
 "nbformat": 4,
 "nbformat_minor": 5
}
